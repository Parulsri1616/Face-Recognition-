{
 "cells": [
  {
   "cell_type": "code",
   "execution_count": 1,
   "id": "834c4eb2-fbf0-47f4-a857-40a1ed1bb6ab",
   "metadata": {},
   "outputs": [],
   "source": [
    "# 1. Generate dataset \n",
    "# 2. Train the classifier \n",
    "# 3. Detect the face and named it if it is already in our dataset \n"
   ]
  },
  {
   "cell_type": "markdown",
   "id": "e553f1fb-fd7e-4946-8252-23fb2a087d4b",
   "metadata": {},
   "source": [
    "# Generate Dataset"
   ]
  },
  {
   "cell_type": "code",
   "execution_count": 2,
   "id": "5fa92199-e3e9-410e-9500-4bdf8f3dcf44",
   "metadata": {},
   "outputs": [
    {
     "name": "stdout",
     "output_type": "stream",
     "text": [
      "/Library/Frameworks/Python.framework/Versions/3.13/lib/python3.13/site-packages/cv2/data/\n"
     ]
    }
   ],
   "source": [
    "import cv2\n",
    "print(cv2.data.haarcascades)"
   ]
  },
  {
   "cell_type": "code",
   "execution_count": 3,
   "id": "924855e2-ca5f-4494-8b6e-299df702a51a",
   "metadata": {},
   "outputs": [
    {
     "name": "stderr",
     "output_type": "stream",
     "text": [
      "<>:9: SyntaxWarning: \"is\" with 'tuple' literal. Did you mean \"==\"?\n",
      "/var/folders/2p/fd9m4yqx7694_c83cy9cj_180000gn/T/ipykernel_3896/2041423167.py:9: SyntaxWarning: \"is\" with 'tuple' literal. Did you mean \"==\"?\n",
      "  if faces is ():\n"
     ]
    }
   ],
   "source": [
    "def generate_dataset():\n",
    "    face_classifier = cv2.CascadeClassifier(\"haarcascade_frontalface_default.xml\")\n",
    "    def face_cropped(img):\n",
    "        gray = cv2.cvtColor(img, cv2.COLOR_BGR2GRAY)\n",
    "        faces = face_classifier.detectMultiScale(gray,1.3,5)\n",
    "        #scaling factor = 1.3\n",
    "        # Minimum neighbor = 5\n",
    "\n",
    "        if faces is ():\n",
    "            return None \n",
    "        for (x,y,w,h) in faces:\n",
    "            cropped_face=img[y:y+h, x:x+w]\n",
    "        return cropped_face\n",
    "        \n",
    "    cap = cv2.VideoCapture(0)\n",
    "    id=3\n",
    "    img_id=0\n",
    "\n",
    "    while True:\n",
    "        ret,frame = cap.read()\n",
    "        if face_cropped(frame) is not None:\n",
    "            img_id+=1\n",
    "            face = cv2.resize(face_cropped(frame),(200,200))\n",
    "            face = cv2.cvtColor(face, cv2.COLOR_BGR2GRAY)\n",
    "            file_name_path = \"data/user.\"+str(id)+\".\"+str(img_id)+\".jpg\"\n",
    "            cv2.imwrite(file_name_path, face)\n",
    "            cv2.putText(face,str(img_id),(50,50),cv2.FONT_HERSHEY_COMPLEX,1,(0,255,0),2)\n",
    "            #(50,50) is the origin point from where text is to be written\n",
    "            #font scale = 1\n",
    "            #thickness = 2\n",
    "\n",
    "            cv2.imshow(\"Cropped face\", face)\n",
    "            if cv2.waitKey(1)==13 or int(img_id)==200:\n",
    "                break\n",
    "    cap.release()\n",
    "    cv2.destroyAllWindows()\n",
    "    print(\"Collecting sample is completed......\")\n",
    "#generate_dataset()"
   ]
  },
  {
   "cell_type": "markdown",
   "id": "20d2d8f8-7d73-4abe-a098-d9b14e2a91de",
   "metadata": {},
   "source": [
    "# Train the classifier and save it "
   ]
  },
  {
   "cell_type": "code",
   "execution_count": 4,
   "id": "dc986545-9f30-457d-b31f-353dab568ecd",
   "metadata": {},
   "outputs": [],
   "source": [
    "import numpy as np\n",
    "from PIL import Image\n",
    "import os\n",
    "import cv2"
   ]
  },
  {
   "cell_type": "code",
   "execution_count": 5,
   "id": "22115063-f5ad-4957-9f3c-0f4ce55613c4",
   "metadata": {},
   "outputs": [],
   "source": [
    "def train_classifier(data_dir):\n",
    "    image_extensions = ('.jpg', '.jpeg', '.png')\n",
    "    path = [os.path.join(data_dir,f) for f in os.listdir(data_dir)]\n",
    "    faces = []\n",
    "    ids = []\n",
    "\n",
    "    for image in path:\n",
    "        img = Image.open(image).convert('L');\n",
    "        imageNp = np.array(img, 'uint8')\n",
    "        id = int(os.path.split(image)[1].split(\".\")[1])\n",
    "\n",
    "        faces.append(imageNp)\n",
    "        ids.append(id)\n",
    "    ids = np.array(ids)\n",
    "\n",
    "    #Train the classifier and save \n",
    "    clf = cv2.face.LBPHFaceRecognizer_create()\n",
    "    clf.train(faces,ids)\n",
    "    clf.write(\"classifier.xml\")\n",
    "train_classifier(\"data\")\n",
    "\n"
   ]
  },
  {
   "cell_type": "markdown",
   "id": "b3848452-94fc-4047-bee0-70e1df7dcead",
   "metadata": {},
   "source": [
    "# Detect the face and named it if it is already stored in our dataset "
   ]
  },
  {
   "cell_type": "code",
   "execution_count": 6,
   "id": "f592a5ef-ce55-4bd6-a2da-13bd7b523221",
   "metadata": {},
   "outputs": [],
   "source": [
    "import cv2\n",
    "import numpy as np\n",
    "from PIL import Image \n",
    "import os "
   ]
  },
  {
   "cell_type": "code",
   "execution_count": null,
   "id": "bbc90848-5c3f-4fa7-a734-0569359b536d",
   "metadata": {},
   "outputs": [
    {
     "name": "stderr",
     "output_type": "stream",
     "text": [
      "2025-08-01 20:34:33.358 Python[3896:162103] WARNING: Secure coding is automatically enabled for restorable state! However, not on all supported macOS versions of this application. Opt-in to secure coding explicitly by implementing NSApplicationDelegate.applicationSupportsSecureRestorableState:.\n"
     ]
    }
   ],
   "source": [
    "def draw_boundary(img,classifier,scaleFactor,minNeighbours,color,text,clf):\n",
    "    gray_image = cv2.cvtColor(img, cv2.COLOR_BGR2GRAY)\n",
    "    features = classifier.detectMultiScale(gray_image,scaleFactor,minNeighbours)\n",
    "\n",
    "    coords = []\n",
    "\n",
    "    for (x,y,w,h) in features:\n",
    "        cv2.rectangle(img,(x,y),(x+w,y+h),color,2)\n",
    "        id,pred = clf.predict(gray_image[y:y+h,x:x+w])\n",
    "        confidence = int(100*(1-pred/300))\n",
    "\n",
    "        if confidence>75:\n",
    "            if id==1:\n",
    "                cv2.putText(img,\"Parul\",(x,y-5),cv2.FONT_HERSHEY_SIMPLEX,0.8,color,1,cv2.LINE_AA)\n",
    "            if id==2:\n",
    "                cv2.putText(img,\"Mummy\",(x,y-5),cv2.FONT_HERSHEY_SIMPLEX,0.8,color,1,cv2.LINE_AA)\n",
    "            if id==3:\n",
    "                cv2.putText(img,\"Papa\",(x,y-5),cv2.FONT_HERSHEY_SIMPLEX,0.8,color,1,cv2.LINE_AA)\n",
    "\n",
    "        else:\n",
    "            cv2.putText(img,\"Unknown\",(x,y-5),cv2.FONT_HERSHEY_SIMPLEX,0.8,(0,0,255),1,cv2.LINE_AA)\n",
    "\n",
    "\n",
    "        coords=[x,y,w,h]\n",
    "    return coords\n",
    "\n",
    "def recognize(img,clf,faceCascade):\n",
    "    coords = draw_boundary(img,faceCascade,1.1,10,(255,255,255),\"Face\",clf)\n",
    "    return img\n",
    "\n",
    "faceCascade = cv2.CascadeClassifier(\"haarcascade_frontalface_default.xml\")\n",
    "clf = cv2.face.LBPHFaceRecognizer_create()\n",
    "clf.read(\"classifier.xml\")\n",
    "\n",
    "video_capture = cv2.VideoCapture(0)\n",
    "\n",
    "while True:\n",
    "    ret,img = video_capture.read()\n",
    "    img = recognize(img,clf,faceCascade)\n",
    "    cv2.imshow(\"face detection\", img)\n",
    "\n",
    "    if cv2.waitKey(1)==13:\n",
    "        break\n",
    "\n",
    "video_capture.release()\n",
    "cv2.destroyAllWindows()\n",
    "\n",
    "# crop face, convert it to gray image -----> classifier\n",
    "# to draw rectangle, i have to give my real image that comes from my webcam"
   ]
  },
  {
   "cell_type": "code",
   "execution_count": null,
   "id": "fa4289aa-145f-4619-a4b9-33ae1845b3bb",
   "metadata": {},
   "outputs": [],
   "source": []
  }
 ],
 "metadata": {
  "kernelspec": {
   "display_name": "Python 3 (ipykernel)",
   "language": "python",
   "name": "python3"
  },
  "language_info": {
   "codemirror_mode": {
    "name": "ipython",
    "version": 3
   },
   "file_extension": ".py",
   "mimetype": "text/x-python",
   "name": "python",
   "nbconvert_exporter": "python",
   "pygments_lexer": "ipython3",
   "version": "3.13.5"
  }
 },
 "nbformat": 4,
 "nbformat_minor": 5
}
